{
  "nbformat": 4,
  "nbformat_minor": 0,
  "metadata": {
    "colab": {
      "provenance": []
    },
    "kernelspec": {
      "name": "python3",
      "display_name": "Python 3"
    },
    "language_info": {
      "name": "python"
    }
  },
  "cells": [
    {
      "cell_type": "code",
      "source": [
        "from google.colab import drive\n",
        "drive.mount('/content/drive')"
      ],
      "metadata": {
        "colab": {
          "base_uri": "https://localhost:8080/"
        },
        "id": "-kbx60sOWHQy",
        "outputId": "f6bce034-d57b-49b1-92d8-77d1d5b30bb5"
      },
      "execution_count": 1,
      "outputs": [
        {
          "output_type": "stream",
          "name": "stdout",
          "text": [
            "Mounted at /content/drive\n"
          ]
        }
      ]
    },
    {
      "cell_type": "code",
      "execution_count": 3,
      "metadata": {
        "colab": {
          "base_uri": "https://localhost:8080/"
        },
        "id": "RPF6SwS1Veu3",
        "outputId": "f877eaac-995c-4e4e-dfc0-877c86cb9b2f"
      },
      "outputs": [
        {
          "output_type": "stream",
          "name": "stderr",
          "text": [
            "/usr/local/lib/python3.10/dist-packages/sklearn/cluster/_kmeans.py:870: FutureWarning: The default value of `n_init` will change from 10 to 'auto' in 1.4. Set the value of `n_init` explicitly to suppress the warning\n",
            "  warnings.warn(\n"
          ]
        },
        {
          "output_type": "stream",
          "name": "stdout",
          "text": [
            "Las imágenes segmentadas se han guardado correctamente.\n"
          ]
        }
      ],
      "source": [
        "import cv2 as cv\n",
        "import numpy as np\n",
        "from sklearn.cluster import KMeans\n",
        "\n",
        "def kmeans_sklearns(img, clusters):\n",
        "    image2 = img.reshape((-1, 3))\n",
        "\n",
        "    kmeans = KMeans(n_clusters=clusters)\n",
        "    kmeans.fit(image2)\n",
        "\n",
        "    centroids = kmeans.cluster_centers_\n",
        "    labels = kmeans.labels_\n",
        "\n",
        "    segmented_img = centroids[labels].reshape(img.shape)\n",
        "    return segmented_img\n",
        "\n",
        "def Opencv(img, clusters):\n",
        "    img2 = img.reshape((-1, 3)).astype(np.float32)\n",
        "\n",
        "    c = (cv.TERM_CRITERIA_EPS + cv.TERM_CRITERIA_MAX_ITER, 100, 0.2)\n",
        "    _, labels, centroids = cv.kmeans(img2, clusters, None, c, 10, cv.KMEANS_RANDOM_CENTERS)\n",
        "\n",
        "    centroids = np.uint8(centroids)\n",
        "    segmented_img = centroids[labels.flatten()]\n",
        "    segmented_img = segmented_img.reshape(img.shape)\n",
        "    return segmented_img\n",
        "\n",
        "# Ruta de la imagen\n",
        "image_path = \"/content/drive/MyDrive/VisionAgricultura/ejericio 5/aguacate-1200x900.jpg\"\n",
        "\n",
        "# Cargar la imagen\n",
        "image = cv.imread(image_path)\n",
        "\n",
        "# Comprobar si la imagen se cargó correctamente\n",
        "if image is None:\n",
        "    print(f\"Error: No se pudo cargar la imagen desde {image_path}\")\n",
        "else:\n",
        "    # Segmentar la imagen usando scikit-learn y OpenCV\n",
        "    clusters = 5  # Cambia el número de clusters según tus necesidades\n",
        "\n",
        "    sk_segmented = kmeans_sklearns(image, clusters)\n",
        "    ocv_segmented = Opencv(image, clusters)\n",
        "\n",
        "    # Guardar las imágenes segmentadas\n",
        "    cv.imwrite('/content/drive/MyDrive/VisionAgricultura/ejericio 5/segmentacion_sk.jpg', sk_segmented)\n",
        "    cv.imwrite('/content/drive/MyDrive/VisionAgricultura/ejericio 5/segmentacion_cv.jpg', ocv_segmented)\n",
        "\n",
        "    print(\"Las imágenes segmentadas se han guardado correctamente.\")\n"
      ]
    },
    {
      "cell_type": "code",
      "source": [],
      "metadata": {
        "id": "Zei8aQMTWcA7"
      },
      "execution_count": null,
      "outputs": []
    }
  ]
}